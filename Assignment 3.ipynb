{
 "cells": [
  {
   "cell_type": "markdown",
   "metadata": {},
   "source": [
    "# Applied Data Science Capstone Project"
   ]
  },
  {
   "cell_type": "markdown",
   "metadata": {},
   "source": [
    "We will start by importing all the necessary libraries. "
   ]
  },
  {
   "cell_type": "code",
   "execution_count": null,
   "metadata": {},
   "outputs": [],
   "source": [
    "import json\n",
    "\n",
    "\n",
    "!conda install -c conda-forge geopy --yes\n",
    "from geopy.geocoders import Nominatim \n",
    "import folium\n",
    "\n",
    "import pandas as pd"
   ]
  },
  {
   "cell_type": "code",
   "execution_count": 75,
   "metadata": {},
   "outputs": [],
   "source": [
    "url = 'https://en.wikipedia.org/wiki/List_of_postal_codes_of_Canada:_M'"
   ]
  },
  {
   "cell_type": "code",
   "execution_count": 76,
   "metadata": {},
   "outputs": [],
   "source": [
    "df = pd.read_html(url, header = 0)"
   ]
  },
  {
   "cell_type": "markdown",
   "metadata": {},
   "source": [
    "Check to see the number of tables on the webpage"
   ]
  },
  {
   "cell_type": "code",
   "execution_count": 77,
   "metadata": {},
   "outputs": [
    {
     "data": {
      "text/plain": [
       "3"
      ]
     },
     "execution_count": 77,
     "metadata": {},
     "output_type": "execute_result"
    }
   ],
   "source": [
    "len(df)"
   ]
  },
  {
   "cell_type": "markdown",
   "metadata": {},
   "source": [
    "Out of the 3 tables, we only want the table with the info about different neighbourhoods"
   ]
  },
  {
   "cell_type": "code",
   "execution_count": 78,
   "metadata": {
    "scrolled": true
   },
   "outputs": [
    {
     "data": {
      "text/html": [
       "<div>\n",
       "<style scoped>\n",
       "    .dataframe tbody tr th:only-of-type {\n",
       "        vertical-align: middle;\n",
       "    }\n",
       "\n",
       "    .dataframe tbody tr th {\n",
       "        vertical-align: top;\n",
       "    }\n",
       "\n",
       "    .dataframe thead th {\n",
       "        text-align: right;\n",
       "    }\n",
       "</style>\n",
       "<table border=\"1\" class=\"dataframe\">\n",
       "  <thead>\n",
       "    <tr style=\"text-align: right;\">\n",
       "      <th></th>\n",
       "      <th>Postal Code</th>\n",
       "      <th>Borough</th>\n",
       "      <th>Neighbourhood</th>\n",
       "    </tr>\n",
       "  </thead>\n",
       "  <tbody>\n",
       "    <tr>\n",
       "      <th>0</th>\n",
       "      <td>M1A</td>\n",
       "      <td>Not assigned</td>\n",
       "      <td>Not assigned</td>\n",
       "    </tr>\n",
       "    <tr>\n",
       "      <th>1</th>\n",
       "      <td>M2A</td>\n",
       "      <td>Not assigned</td>\n",
       "      <td>Not assigned</td>\n",
       "    </tr>\n",
       "    <tr>\n",
       "      <th>2</th>\n",
       "      <td>M3A</td>\n",
       "      <td>North York</td>\n",
       "      <td>Parkwoods</td>\n",
       "    </tr>\n",
       "    <tr>\n",
       "      <th>3</th>\n",
       "      <td>M4A</td>\n",
       "      <td>North York</td>\n",
       "      <td>Victoria Village</td>\n",
       "    </tr>\n",
       "    <tr>\n",
       "      <th>4</th>\n",
       "      <td>M5A</td>\n",
       "      <td>Downtown Toronto</td>\n",
       "      <td>Regent Park, Harbourfront</td>\n",
       "    </tr>\n",
       "    <tr>\n",
       "      <th>...</th>\n",
       "      <td>...</td>\n",
       "      <td>...</td>\n",
       "      <td>...</td>\n",
       "    </tr>\n",
       "    <tr>\n",
       "      <th>175</th>\n",
       "      <td>M5Z</td>\n",
       "      <td>Not assigned</td>\n",
       "      <td>Not assigned</td>\n",
       "    </tr>\n",
       "    <tr>\n",
       "      <th>176</th>\n",
       "      <td>M6Z</td>\n",
       "      <td>Not assigned</td>\n",
       "      <td>Not assigned</td>\n",
       "    </tr>\n",
       "    <tr>\n",
       "      <th>177</th>\n",
       "      <td>M7Z</td>\n",
       "      <td>Not assigned</td>\n",
       "      <td>Not assigned</td>\n",
       "    </tr>\n",
       "    <tr>\n",
       "      <th>178</th>\n",
       "      <td>M8Z</td>\n",
       "      <td>Etobicoke</td>\n",
       "      <td>Mimico NW, The Queensway West, South of Bloor,...</td>\n",
       "    </tr>\n",
       "    <tr>\n",
       "      <th>179</th>\n",
       "      <td>M9Z</td>\n",
       "      <td>Not assigned</td>\n",
       "      <td>Not assigned</td>\n",
       "    </tr>\n",
       "  </tbody>\n",
       "</table>\n",
       "<p>180 rows × 3 columns</p>\n",
       "</div>"
      ],
      "text/plain": [
       "    Postal Code           Borough  \\\n",
       "0           M1A      Not assigned   \n",
       "1           M2A      Not assigned   \n",
       "2           M3A        North York   \n",
       "3           M4A        North York   \n",
       "4           M5A  Downtown Toronto   \n",
       "..          ...               ...   \n",
       "175         M5Z      Not assigned   \n",
       "176         M6Z      Not assigned   \n",
       "177         M7Z      Not assigned   \n",
       "178         M8Z         Etobicoke   \n",
       "179         M9Z      Not assigned   \n",
       "\n",
       "                                         Neighbourhood  \n",
       "0                                         Not assigned  \n",
       "1                                         Not assigned  \n",
       "2                                            Parkwoods  \n",
       "3                                     Victoria Village  \n",
       "4                            Regent Park, Harbourfront  \n",
       "..                                                 ...  \n",
       "175                                       Not assigned  \n",
       "176                                       Not assigned  \n",
       "177                                       Not assigned  \n",
       "178  Mimico NW, The Queensway West, South of Bloor,...  \n",
       "179                                       Not assigned  \n",
       "\n",
       "[180 rows x 3 columns]"
      ]
     },
     "execution_count": 78,
     "metadata": {},
     "output_type": "execute_result"
    }
   ],
   "source": [
    "df[0]"
   ]
  },
  {
   "cell_type": "markdown",
   "metadata": {},
   "source": [
    "Create a dataframe for canadian neighbouthoods using the first table and get it's shape. We can see that there are 180 rows and 3 columns in this dataframe"
   ]
  },
  {
   "cell_type": "code",
   "execution_count": 137,
   "metadata": {},
   "outputs": [
    {
     "data": {
      "text/plain": [
       "(180, 3)"
      ]
     },
     "execution_count": 137,
     "metadata": {},
     "output_type": "execute_result"
    }
   ],
   "source": [
    "df_ca = df[0]\n",
    "df_ca.shape"
   ]
  },
  {
   "cell_type": "markdown",
   "metadata": {},
   "source": [
    "We clean the data, only keeping the Boroughs with an assigned name."
   ]
  },
  {
   "cell_type": "code",
   "execution_count": 139,
   "metadata": {},
   "outputs": [],
   "source": [
    "df_ca= df_ca.loc[df_ca['Borough']!='Not assigned']"
   ]
  },
  {
   "cell_type": "code",
   "execution_count": 140,
   "metadata": {},
   "outputs": [],
   "source": [
    "df_ca.reset_index(inplace=True)"
   ]
  },
  {
   "cell_type": "code",
   "execution_count": null,
   "metadata": {},
   "outputs": [],
   "source": [
    "df_ca.drop(columns=['index'], inplace=True)"
   ]
  },
  {
   "cell_type": "code",
   "execution_count": 142,
   "metadata": {},
   "outputs": [
    {
     "data": {
      "text/html": [
       "<div>\n",
       "<style scoped>\n",
       "    .dataframe tbody tr th:only-of-type {\n",
       "        vertical-align: middle;\n",
       "    }\n",
       "\n",
       "    .dataframe tbody tr th {\n",
       "        vertical-align: top;\n",
       "    }\n",
       "\n",
       "    .dataframe thead th {\n",
       "        text-align: right;\n",
       "    }\n",
       "</style>\n",
       "<table border=\"1\" class=\"dataframe\">\n",
       "  <thead>\n",
       "    <tr style=\"text-align: right;\">\n",
       "      <th></th>\n",
       "      <th>Postal Code</th>\n",
       "      <th>Borough</th>\n",
       "      <th>Neighbourhood</th>\n",
       "    </tr>\n",
       "  </thead>\n",
       "  <tbody>\n",
       "    <tr>\n",
       "      <th>0</th>\n",
       "      <td>M3A</td>\n",
       "      <td>North York</td>\n",
       "      <td>Parkwoods</td>\n",
       "    </tr>\n",
       "    <tr>\n",
       "      <th>1</th>\n",
       "      <td>M4A</td>\n",
       "      <td>North York</td>\n",
       "      <td>Victoria Village</td>\n",
       "    </tr>\n",
       "    <tr>\n",
       "      <th>2</th>\n",
       "      <td>M5A</td>\n",
       "      <td>Downtown Toronto</td>\n",
       "      <td>Regent Park, Harbourfront</td>\n",
       "    </tr>\n",
       "    <tr>\n",
       "      <th>3</th>\n",
       "      <td>M6A</td>\n",
       "      <td>North York</td>\n",
       "      <td>Lawrence Manor, Lawrence Heights</td>\n",
       "    </tr>\n",
       "    <tr>\n",
       "      <th>4</th>\n",
       "      <td>M7A</td>\n",
       "      <td>Downtown Toronto</td>\n",
       "      <td>Queen's Park, Ontario Provincial Government</td>\n",
       "    </tr>\n",
       "    <tr>\n",
       "      <th>5</th>\n",
       "      <td>M9A</td>\n",
       "      <td>Etobicoke</td>\n",
       "      <td>Islington Avenue, Humber Valley Village</td>\n",
       "    </tr>\n",
       "    <tr>\n",
       "      <th>6</th>\n",
       "      <td>M1B</td>\n",
       "      <td>Scarborough</td>\n",
       "      <td>Malvern, Rouge</td>\n",
       "    </tr>\n",
       "    <tr>\n",
       "      <th>7</th>\n",
       "      <td>M3B</td>\n",
       "      <td>North York</td>\n",
       "      <td>Don Mills</td>\n",
       "    </tr>\n",
       "    <tr>\n",
       "      <th>8</th>\n",
       "      <td>M4B</td>\n",
       "      <td>East York</td>\n",
       "      <td>Parkview Hill, Woodbine Gardens</td>\n",
       "    </tr>\n",
       "    <tr>\n",
       "      <th>9</th>\n",
       "      <td>M5B</td>\n",
       "      <td>Downtown Toronto</td>\n",
       "      <td>Garden District, Ryerson</td>\n",
       "    </tr>\n",
       "  </tbody>\n",
       "</table>\n",
       "</div>"
      ],
      "text/plain": [
       "  Postal Code           Borough                                Neighbourhood\n",
       "0         M3A        North York                                    Parkwoods\n",
       "1         M4A        North York                             Victoria Village\n",
       "2         M5A  Downtown Toronto                    Regent Park, Harbourfront\n",
       "3         M6A        North York             Lawrence Manor, Lawrence Heights\n",
       "4         M7A  Downtown Toronto  Queen's Park, Ontario Provincial Government\n",
       "5         M9A         Etobicoke      Islington Avenue, Humber Valley Village\n",
       "6         M1B       Scarborough                               Malvern, Rouge\n",
       "7         M3B        North York                                    Don Mills\n",
       "8         M4B         East York              Parkview Hill, Woodbine Gardens\n",
       "9         M5B  Downtown Toronto                     Garden District, Ryerson"
      ]
     },
     "execution_count": 142,
     "metadata": {},
     "output_type": "execute_result"
    }
   ],
   "source": [
    "#what the new df looks like\n",
    "df_ca.head(10)"
   ]
  },
  {
   "cell_type": "markdown",
   "metadata": {},
   "source": [
    "Check the shape of the new datafram. We now have 103 rows and 3 columns."
   ]
  },
  {
   "cell_type": "code",
   "execution_count": 143,
   "metadata": {},
   "outputs": [
    {
     "data": {
      "text/plain": [
       "(103, 3)"
      ]
     },
     "execution_count": 143,
     "metadata": {},
     "output_type": "execute_result"
    }
   ],
   "source": [
    "df_ca.shape"
   ]
  },
  {
   "cell_type": "markdown",
   "metadata": {},
   "source": [
    "Load the Geocoordinates and have a look at the first few lines. I am doing it using the csv file."
   ]
  },
  {
   "cell_type": "code",
   "execution_count": 88,
   "metadata": {},
   "outputs": [
    {
     "data": {
      "text/html": [
       "<div>\n",
       "<style scoped>\n",
       "    .dataframe tbody tr th:only-of-type {\n",
       "        vertical-align: middle;\n",
       "    }\n",
       "\n",
       "    .dataframe tbody tr th {\n",
       "        vertical-align: top;\n",
       "    }\n",
       "\n",
       "    .dataframe thead th {\n",
       "        text-align: right;\n",
       "    }\n",
       "</style>\n",
       "<table border=\"1\" class=\"dataframe\">\n",
       "  <thead>\n",
       "    <tr style=\"text-align: right;\">\n",
       "      <th></th>\n",
       "      <th>Postal Code</th>\n",
       "      <th>Latitude</th>\n",
       "      <th>Longitude</th>\n",
       "    </tr>\n",
       "  </thead>\n",
       "  <tbody>\n",
       "    <tr>\n",
       "      <th>0</th>\n",
       "      <td>M1B</td>\n",
       "      <td>43.806686</td>\n",
       "      <td>-79.194353</td>\n",
       "    </tr>\n",
       "    <tr>\n",
       "      <th>1</th>\n",
       "      <td>M1C</td>\n",
       "      <td>43.784535</td>\n",
       "      <td>-79.160497</td>\n",
       "    </tr>\n",
       "    <tr>\n",
       "      <th>2</th>\n",
       "      <td>M1E</td>\n",
       "      <td>43.763573</td>\n",
       "      <td>-79.188711</td>\n",
       "    </tr>\n",
       "    <tr>\n",
       "      <th>3</th>\n",
       "      <td>M1G</td>\n",
       "      <td>43.770992</td>\n",
       "      <td>-79.216917</td>\n",
       "    </tr>\n",
       "    <tr>\n",
       "      <th>4</th>\n",
       "      <td>M1H</td>\n",
       "      <td>43.773136</td>\n",
       "      <td>-79.239476</td>\n",
       "    </tr>\n",
       "  </tbody>\n",
       "</table>\n",
       "</div>"
      ],
      "text/plain": [
       "  Postal Code   Latitude  Longitude\n",
       "0         M1B  43.806686 -79.194353\n",
       "1         M1C  43.784535 -79.160497\n",
       "2         M1E  43.763573 -79.188711\n",
       "3         M1G  43.770992 -79.216917\n",
       "4         M1H  43.773136 -79.239476"
      ]
     },
     "execution_count": 88,
     "metadata": {},
     "output_type": "execute_result"
    }
   ],
   "source": [
    "geo_df = pd.read_csv('http://cocl.us/Geospatial_data')\n",
    "geo_df.head()"
   ]
  },
  {
   "cell_type": "markdown",
   "metadata": {},
   "source": [
    "Create a new dataframe by merging the 2 dataframes and check if we have the correct number of rows. We can see that we did not lose any rows during this merge/join."
   ]
  },
  {
   "cell_type": "code",
   "execution_count": 144,
   "metadata": {},
   "outputs": [
    {
     "data": {
      "text/html": [
       "<div>\n",
       "<style scoped>\n",
       "    .dataframe tbody tr th:only-of-type {\n",
       "        vertical-align: middle;\n",
       "    }\n",
       "\n",
       "    .dataframe tbody tr th {\n",
       "        vertical-align: top;\n",
       "    }\n",
       "\n",
       "    .dataframe thead th {\n",
       "        text-align: right;\n",
       "    }\n",
       "</style>\n",
       "<table border=\"1\" class=\"dataframe\">\n",
       "  <thead>\n",
       "    <tr style=\"text-align: right;\">\n",
       "      <th></th>\n",
       "      <th>Postal Code</th>\n",
       "      <th>Borough</th>\n",
       "      <th>Neighbourhood</th>\n",
       "      <th>Latitude</th>\n",
       "      <th>Longitude</th>\n",
       "    </tr>\n",
       "  </thead>\n",
       "  <tbody>\n",
       "    <tr>\n",
       "      <th>0</th>\n",
       "      <td>M3A</td>\n",
       "      <td>North York</td>\n",
       "      <td>Parkwoods</td>\n",
       "      <td>43.753259</td>\n",
       "      <td>-79.329656</td>\n",
       "    </tr>\n",
       "    <tr>\n",
       "      <th>1</th>\n",
       "      <td>M4A</td>\n",
       "      <td>North York</td>\n",
       "      <td>Victoria Village</td>\n",
       "      <td>43.725882</td>\n",
       "      <td>-79.315572</td>\n",
       "    </tr>\n",
       "    <tr>\n",
       "      <th>2</th>\n",
       "      <td>M5A</td>\n",
       "      <td>Downtown Toronto</td>\n",
       "      <td>Regent Park, Harbourfront</td>\n",
       "      <td>43.654260</td>\n",
       "      <td>-79.360636</td>\n",
       "    </tr>\n",
       "    <tr>\n",
       "      <th>3</th>\n",
       "      <td>M6A</td>\n",
       "      <td>North York</td>\n",
       "      <td>Lawrence Manor, Lawrence Heights</td>\n",
       "      <td>43.718518</td>\n",
       "      <td>-79.464763</td>\n",
       "    </tr>\n",
       "    <tr>\n",
       "      <th>4</th>\n",
       "      <td>M7A</td>\n",
       "      <td>Downtown Toronto</td>\n",
       "      <td>Queen's Park, Ontario Provincial Government</td>\n",
       "      <td>43.662301</td>\n",
       "      <td>-79.389494</td>\n",
       "    </tr>\n",
       "  </tbody>\n",
       "</table>\n",
       "</div>"
      ],
      "text/plain": [
       "  Postal Code           Borough                                Neighbourhood  \\\n",
       "0         M3A        North York                                    Parkwoods   \n",
       "1         M4A        North York                             Victoria Village   \n",
       "2         M5A  Downtown Toronto                    Regent Park, Harbourfront   \n",
       "3         M6A        North York             Lawrence Manor, Lawrence Heights   \n",
       "4         M7A  Downtown Toronto  Queen's Park, Ontario Provincial Government   \n",
       "\n",
       "    Latitude  Longitude  \n",
       "0  43.753259 -79.329656  \n",
       "1  43.725882 -79.315572  \n",
       "2  43.654260 -79.360636  \n",
       "3  43.718518 -79.464763  \n",
       "4  43.662301 -79.389494  "
      ]
     },
     "execution_count": 144,
     "metadata": {},
     "output_type": "execute_result"
    }
   ],
   "source": [
    "new_df =pd.merge(df_ca, geo_df, left_on='Postal Code', right_on='Postal Code', how='left') \n",
    "new_df.head()"
   ]
  },
  {
   "cell_type": "code",
   "execution_count": 145,
   "metadata": {},
   "outputs": [
    {
     "data": {
      "text/plain": [
       "(103, 5)"
      ]
     },
     "execution_count": 145,
     "metadata": {},
     "output_type": "execute_result"
    }
   ],
   "source": [
    "new_df.shape"
   ]
  },
  {
   "cell_type": "markdown",
   "metadata": {},
   "source": [
    "Next, get all the unique Borough names. This is in order to create a dataframe that only contains Toronto Boroughs. "
   ]
  },
  {
   "cell_type": "code",
   "execution_count": 146,
   "metadata": {},
   "outputs": [
    {
     "data": {
      "text/plain": [
       "array(['North York', 'Downtown Toronto', 'Etobicoke', 'Scarborough',\n",
       "       'East York', 'York', 'East Toronto', 'West Toronto',\n",
       "       'Central Toronto', 'Mississauga'], dtype=object)"
      ]
     },
     "execution_count": 146,
     "metadata": {},
     "output_type": "execute_result"
    }
   ],
   "source": [
    "new_df.Borough.unique()"
   ]
  },
  {
   "cell_type": "code",
   "execution_count": 149,
   "metadata": {},
   "outputs": [
    {
     "data": {
      "text/plain": [
       "(64, 5)"
      ]
     },
     "execution_count": 149,
     "metadata": {},
     "output_type": "execute_result"
    }
   ],
   "source": [
    "#boroughs that aren't in Toronto, doing this just to double check my data\n",
    "else_data = new_df[~new_df['Borough'].isin(['Downtown Toronto', 'East Toronto','West Toronto', 'Central Toronto'])]\n",
    "else_data.shape"
   ]
  },
  {
   "cell_type": "code",
   "execution_count": 206,
   "metadata": {},
   "outputs": [
    {
     "data": {
      "text/plain": [
       "(39, 5)"
      ]
     },
     "execution_count": 206,
     "metadata": {},
     "output_type": "execute_result"
    }
   ],
   "source": [
    "#boroughs in Toronto\n",
    "toronto_data = new_df[new_df['Borough'].isin(['Downtown Toronto', 'East Toronto','West Toronto', 'Central Toronto'])]\n",
    "toronto_data.shape"
   ]
  },
  {
   "cell_type": "markdown",
   "metadata": {},
   "source": [
    "If we add the number of rows in the 2 dataframes, to be sure that we have the total number of rows of the original dataframe. ie, 103 rows. Below are the first few rows of the dataframe with only Toronto Neighbourhoods"
   ]
  },
  {
   "cell_type": "code",
   "execution_count": 209,
   "metadata": {
    "scrolled": true
   },
   "outputs": [
    {
     "data": {
      "text/html": [
       "<div>\n",
       "<style scoped>\n",
       "    .dataframe tbody tr th:only-of-type {\n",
       "        vertical-align: middle;\n",
       "    }\n",
       "\n",
       "    .dataframe tbody tr th {\n",
       "        vertical-align: top;\n",
       "    }\n",
       "\n",
       "    .dataframe thead th {\n",
       "        text-align: right;\n",
       "    }\n",
       "</style>\n",
       "<table border=\"1\" class=\"dataframe\">\n",
       "  <thead>\n",
       "    <tr style=\"text-align: right;\">\n",
       "      <th></th>\n",
       "      <th>Postal Code</th>\n",
       "      <th>Borough</th>\n",
       "      <th>Neighbourhood</th>\n",
       "      <th>Latitude</th>\n",
       "      <th>Longitude</th>\n",
       "    </tr>\n",
       "  </thead>\n",
       "  <tbody>\n",
       "    <tr>\n",
       "      <th>0</th>\n",
       "      <td>M5A</td>\n",
       "      <td>Downtown Toronto</td>\n",
       "      <td>Regent Park, Harbourfront</td>\n",
       "      <td>43.654260</td>\n",
       "      <td>-79.360636</td>\n",
       "    </tr>\n",
       "    <tr>\n",
       "      <th>1</th>\n",
       "      <td>M7A</td>\n",
       "      <td>Downtown Toronto</td>\n",
       "      <td>Queen's Park, Ontario Provincial Government</td>\n",
       "      <td>43.662301</td>\n",
       "      <td>-79.389494</td>\n",
       "    </tr>\n",
       "    <tr>\n",
       "      <th>2</th>\n",
       "      <td>M5B</td>\n",
       "      <td>Downtown Toronto</td>\n",
       "      <td>Garden District, Ryerson</td>\n",
       "      <td>43.657162</td>\n",
       "      <td>-79.378937</td>\n",
       "    </tr>\n",
       "    <tr>\n",
       "      <th>3</th>\n",
       "      <td>M5C</td>\n",
       "      <td>Downtown Toronto</td>\n",
       "      <td>St. James Town</td>\n",
       "      <td>43.651494</td>\n",
       "      <td>-79.375418</td>\n",
       "    </tr>\n",
       "    <tr>\n",
       "      <th>4</th>\n",
       "      <td>M4E</td>\n",
       "      <td>East Toronto</td>\n",
       "      <td>The Beaches</td>\n",
       "      <td>43.676357</td>\n",
       "      <td>-79.293031</td>\n",
       "    </tr>\n",
       "    <tr>\n",
       "      <th>5</th>\n",
       "      <td>M5E</td>\n",
       "      <td>Downtown Toronto</td>\n",
       "      <td>Berczy Park</td>\n",
       "      <td>43.644771</td>\n",
       "      <td>-79.373306</td>\n",
       "    </tr>\n",
       "    <tr>\n",
       "      <th>6</th>\n",
       "      <td>M5G</td>\n",
       "      <td>Downtown Toronto</td>\n",
       "      <td>Central Bay Street</td>\n",
       "      <td>43.657952</td>\n",
       "      <td>-79.387383</td>\n",
       "    </tr>\n",
       "    <tr>\n",
       "      <th>7</th>\n",
       "      <td>M6G</td>\n",
       "      <td>Downtown Toronto</td>\n",
       "      <td>Christie</td>\n",
       "      <td>43.669542</td>\n",
       "      <td>-79.422564</td>\n",
       "    </tr>\n",
       "    <tr>\n",
       "      <th>8</th>\n",
       "      <td>M5H</td>\n",
       "      <td>Downtown Toronto</td>\n",
       "      <td>Richmond, Adelaide, King</td>\n",
       "      <td>43.650571</td>\n",
       "      <td>-79.384568</td>\n",
       "    </tr>\n",
       "    <tr>\n",
       "      <th>9</th>\n",
       "      <td>M6H</td>\n",
       "      <td>West Toronto</td>\n",
       "      <td>Dufferin, Dovercourt Village</td>\n",
       "      <td>43.669005</td>\n",
       "      <td>-79.442259</td>\n",
       "    </tr>\n",
       "  </tbody>\n",
       "</table>\n",
       "</div>"
      ],
      "text/plain": [
       "  Postal Code           Borough                                Neighbourhood  \\\n",
       "0         M5A  Downtown Toronto                    Regent Park, Harbourfront   \n",
       "1         M7A  Downtown Toronto  Queen's Park, Ontario Provincial Government   \n",
       "2         M5B  Downtown Toronto                     Garden District, Ryerson   \n",
       "3         M5C  Downtown Toronto                               St. James Town   \n",
       "4         M4E      East Toronto                                  The Beaches   \n",
       "5         M5E  Downtown Toronto                                  Berczy Park   \n",
       "6         M5G  Downtown Toronto                           Central Bay Street   \n",
       "7         M6G  Downtown Toronto                                     Christie   \n",
       "8         M5H  Downtown Toronto                     Richmond, Adelaide, King   \n",
       "9         M6H      West Toronto                 Dufferin, Dovercourt Village   \n",
       "\n",
       "    Latitude  Longitude  \n",
       "0  43.654260 -79.360636  \n",
       "1  43.662301 -79.389494  \n",
       "2  43.657162 -79.378937  \n",
       "3  43.651494 -79.375418  \n",
       "4  43.676357 -79.293031  \n",
       "5  43.644771 -79.373306  \n",
       "6  43.657952 -79.387383  \n",
       "7  43.669542 -79.422564  \n",
       "8  43.650571 -79.384568  \n",
       "9  43.669005 -79.442259  "
      ]
     },
     "execution_count": 209,
     "metadata": {},
     "output_type": "execute_result"
    }
   ],
   "source": [
    "toronto_data.reset_index(drop=True, inplace=True)\n",
    "toronto_data.head(10)"
   ]
  },
  {
   "cell_type": "markdown",
   "metadata": {},
   "source": [
    "In order to create map, start by getting the Geographic coordinates of Toronto."
   ]
  },
  {
   "cell_type": "code",
   "execution_count": 210,
   "metadata": {},
   "outputs": [
    {
     "name": "stdout",
     "output_type": "stream",
     "text": [
      "The geograpical coordinate of Toronto are 43.6534817, -79.3839347.\n"
     ]
    }
   ],
   "source": [
    "from geopy.geocoders import Nominatim\n",
    "address = 'Toronto'\n",
    "\n",
    "geolocator = Nominatim(user_agent=\"explore_toronto\")\n",
    "location = geolocator.geocode(address)\n",
    "latitude = location.latitude\n",
    "longitude = location.longitude\n",
    "print('The geograpical coordinate of Toronto are {}, {}.'.format(latitude, longitude))"
   ]
  },
  {
   "cell_type": "markdown",
   "metadata": {},
   "source": [
    "Next, create the Folium map for Toronto by using the latitudes and longitudes. Add markers. I would like the popup to show both borough and neighbourhood. "
   ]
  },
  {
   "cell_type": "code",
   "execution_count": 208,
   "metadata": {},
   "outputs": [
    {
     "data": {
      "text/html": [
       "<div style=\"width:100%;\"><div style=\"position:relative;width:100%;height:0;padding-bottom:60%;\"><span style=\"color:#565656\">Make this Notebook Trusted to load map: File -> Trust Notebook</span><iframe src=\"about:blank\" style=\"position:absolute;width:100%;height:100%;left:0;top:0;border:none !important;\" data-html=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 onload=\"this.contentDocument.open();this.contentDocument.write(atob(this.getAttribute('data-html')));this.contentDocument.close();\" allowfullscreen webkitallowfullscreen mozallowfullscreen></iframe></div></div>"
      ],
      "text/plain": [
       "<folium.folium.Map at 0x1c117ed29a0>"
      ]
     },
     "execution_count": 208,
     "metadata": {},
     "output_type": "execute_result"
    }
   ],
   "source": [
    "map_toronto = folium.Map(location=[latitude, longitude], zoom_start=12)\n",
    "\n",
    "for lat, lng,borough, neighbourhood in zip(toronto_data['Latitude'], toronto_data['Longitude'],toronto_data['Borough'], toronto_data['Neighbourhood']):\n",
    "    label = '{}, {}'.format(neighborhood, borough)\n",
    "    label = folium.Popup(label, parse_html=True)\n",
    "    folium.CircleMarker(\n",
    "        [lat, lng],\n",
    "        radius=5,\n",
    "        popup=label,\n",
    "        color='blue',\n",
    "        fill=True,\n",
    "        fill_color='#3186cc',\n",
    "        fill_opacity=0.7,\n",
    "        parse_html=False).add_to(map_toronto)  \n",
    "    \n",
    "map_toronto"
   ]
  },
  {
   "cell_type": "markdown",
   "metadata": {},
   "source": [
    "Thank you for your feedback!"
   ]
  },
  {
   "cell_type": "code",
   "execution_count": null,
   "metadata": {},
   "outputs": [],
   "source": []
  }
 ],
 "metadata": {
  "kernelspec": {
   "display_name": "Python 3",
   "language": "python",
   "name": "python3"
  },
  "language_info": {
   "codemirror_mode": {
    "name": "ipython",
    "version": 3
   },
   "file_extension": ".py",
   "mimetype": "text/x-python",
   "name": "python",
   "nbconvert_exporter": "python",
   "pygments_lexer": "ipython3",
   "version": "3.8.3"
  }
 },
 "nbformat": 4,
 "nbformat_minor": 4
}
